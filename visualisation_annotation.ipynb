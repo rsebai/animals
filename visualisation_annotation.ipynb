{
 "cells": [
  {
   "cell_type": "code",
   "execution_count": 53,
   "id": "529f9778",
   "metadata": {},
   "outputs": [],
   "source": [
    "import numpy as np\n",
    "import pandas as pd\n",
    "import xml.etree.ElementTree as ET\n",
    "from pathlib import Path\n",
    "import seaborn as sns\n",
    "from tqdm import tqdm"
   ]
  },
  {
   "cell_type": "markdown",
   "id": "3dcd7a93",
   "metadata": {},
   "source": [
    "## Parsing files to arrays "
   ]
  },
  {
   "cell_type": "code",
   "execution_count": 54,
   "id": "22fe449f",
   "metadata": {},
   "outputs": [],
   "source": [
    "def read_content(xml_file):\n",
    "    \"\"\"\n",
    "    formats data from xml to arrays.\n",
    "    returns image name, boxes position, classes labels\n",
    "    \"\"\"\n",
    "    tree = ET.parse(xml_file)\n",
    "    root = tree.getroot()\n",
    "    \n",
    "    filename = root.find('filename').text\n",
    "\n",
    "    \n",
    "    if root.find('object') is None:\n",
    "        list_with_all_boxes = [[None,None, None, None]]\n",
    "        list_with_all_labels = [None]\n",
    "    else:\n",
    "        list_with_all_boxes = []\n",
    "        list_with_all_labels = []\n",
    "        for boxes in root.iter('object'):\n",
    "            ymin, xmin, ymax, xmax = None, None, None, None\n",
    "\n",
    "            ymin = int(boxes.find(\"bndbox/ymin\").text)\n",
    "            xmin = int(boxes.find(\"bndbox/xmin\").text)\n",
    "            ymax = int(boxes.find(\"bndbox/ymax\").text)\n",
    "            xmax = int(boxes.find(\"bndbox/xmax\").text)\n",
    "\n",
    "            list_with_single_boxes = [xmin, ymin, xmax, ymax]\n",
    "            list_with_all_boxes.append(list_with_single_boxes)\n",
    "\n",
    "            label = boxes.find(\"name\").text\n",
    "            list_with_all_labels.append(label)\n",
    "\n",
    "    # add image width and height if needed\n",
    "        \n",
    "    return [filename]*len(list_with_all_labels), list_with_all_boxes, list_with_all_labels"
   ]
  },
  {
   "cell_type": "markdown",
   "id": "f7dc7148",
   "metadata": {},
   "source": [
    "## !! path = chemin du dossier des annotations"
   ]
  },
  {
   "cell_type": "code",
   "execution_count": 55,
   "id": "499f9346",
   "metadata": {},
   "outputs": [],
   "source": [
    "# path du dossier d'annotation\n",
    "path = 'C:/Users/rajae/Downloads/animals-master/labelelled'\n",
    "annotations_folder_path = Path(path)"
   ]
  },
  {
   "cell_type": "code",
   "execution_count": 56,
   "id": "4da90450",
   "metadata": {},
   "outputs": [
    {
     "name": "stderr",
     "output_type": "stream",
     "text": [
      "100%|██████████████████████████████████████████████████████████████████████████████| 113/113 [00:00<00:00, 2137.91it/s]\n"
     ]
    }
   ],
   "source": [
    "# load the training data set (entirely or partly)\n",
    "image_ids = np.array([])\n",
    "box = np.empty((0,4))\n",
    "label = np.array([])\n",
    "\n",
    "for file in tqdm(list(annotations_folder_path.glob('*.xml'))):\n",
    "    annot = read_content(file)\n",
    "    image_ids = np.append(image_ids,annot[0])\n",
    "    box = np.concatenate([box,annot[1]])\n",
    "    label = np.append(label,annot[2])"
   ]
  },
  {
   "cell_type": "code",
   "execution_count": 57,
   "id": "59c330cb",
   "metadata": {},
   "outputs": [
    {
     "data": {
      "text/html": [
       "<div>\n",
       "<style scoped>\n",
       "    .dataframe tbody tr th:only-of-type {\n",
       "        vertical-align: middle;\n",
       "    }\n",
       "\n",
       "    .dataframe tbody tr th {\n",
       "        vertical-align: top;\n",
       "    }\n",
       "\n",
       "    .dataframe thead th {\n",
       "        text-align: right;\n",
       "    }\n",
       "</style>\n",
       "<table border=\"1\" class=\"dataframe\">\n",
       "  <thead>\n",
       "    <tr style=\"text-align: right;\">\n",
       "      <th></th>\n",
       "      <th>image_ids</th>\n",
       "      <th>xmin</th>\n",
       "      <th>ymin</th>\n",
       "      <th>xmax</th>\n",
       "      <th>ymax</th>\n",
       "      <th>class</th>\n",
       "    </tr>\n",
       "  </thead>\n",
       "  <tbody>\n",
       "    <tr>\n",
       "      <th>0</th>\n",
       "      <td>img2000.jpg</td>\n",
       "      <td>2.0</td>\n",
       "      <td>1.0</td>\n",
       "      <td>63.0</td>\n",
       "      <td>63.0</td>\n",
       "      <td>orang-outan</td>\n",
       "    </tr>\n",
       "    <tr>\n",
       "      <th>1</th>\n",
       "      <td>img2004.jpg</td>\n",
       "      <td>14.0</td>\n",
       "      <td>3.0</td>\n",
       "      <td>64.0</td>\n",
       "      <td>64.0</td>\n",
       "      <td>lynx</td>\n",
       "    </tr>\n",
       "    <tr>\n",
       "      <th>2</th>\n",
       "      <td>img2006.jpg</td>\n",
       "      <td>1.0</td>\n",
       "      <td>4.0</td>\n",
       "      <td>61.0</td>\n",
       "      <td>64.0</td>\n",
       "      <td>guepard</td>\n",
       "    </tr>\n",
       "    <tr>\n",
       "      <th>3</th>\n",
       "      <td>img2008.jpg</td>\n",
       "      <td>1.0</td>\n",
       "      <td>16.0</td>\n",
       "      <td>64.0</td>\n",
       "      <td>64.0</td>\n",
       "      <td>loup</td>\n",
       "    </tr>\n",
       "    <tr>\n",
       "      <th>4</th>\n",
       "      <td>img2010.jpg</td>\n",
       "      <td>23.0</td>\n",
       "      <td>1.0</td>\n",
       "      <td>62.0</td>\n",
       "      <td>62.0</td>\n",
       "      <td>chimpanze</td>\n",
       "    </tr>\n",
       "    <tr>\n",
       "      <th>...</th>\n",
       "      <td>...</td>\n",
       "      <td>...</td>\n",
       "      <td>...</td>\n",
       "      <td>...</td>\n",
       "      <td>...</td>\n",
       "      <td>...</td>\n",
       "    </tr>\n",
       "    <tr>\n",
       "      <th>127</th>\n",
       "      <td>img2186.jpg</td>\n",
       "      <td>9.0</td>\n",
       "      <td>1.0</td>\n",
       "      <td>56.0</td>\n",
       "      <td>61.0</td>\n",
       "      <td>hamster</td>\n",
       "    </tr>\n",
       "    <tr>\n",
       "      <th>128</th>\n",
       "      <td>img2187.jpg</td>\n",
       "      <td>15.0</td>\n",
       "      <td>10.0</td>\n",
       "      <td>64.0</td>\n",
       "      <td>64.0</td>\n",
       "      <td>cochon-inde</td>\n",
       "    </tr>\n",
       "    <tr>\n",
       "      <th>129</th>\n",
       "      <td>img2188.jpg</td>\n",
       "      <td>1.0</td>\n",
       "      <td>7.0</td>\n",
       "      <td>64.0</td>\n",
       "      <td>56.0</td>\n",
       "      <td>cochon-inde</td>\n",
       "    </tr>\n",
       "    <tr>\n",
       "      <th>130</th>\n",
       "      <td>img2190.jpg</td>\n",
       "      <td>7.0</td>\n",
       "      <td>5.0</td>\n",
       "      <td>64.0</td>\n",
       "      <td>64.0</td>\n",
       "      <td>jaguar</td>\n",
       "    </tr>\n",
       "    <tr>\n",
       "      <th>131</th>\n",
       "      <td>img2191.jpg</td>\n",
       "      <td>1.0</td>\n",
       "      <td>1.0</td>\n",
       "      <td>49.0</td>\n",
       "      <td>64.0</td>\n",
       "      <td>orang-outan</td>\n",
       "    </tr>\n",
       "  </tbody>\n",
       "</table>\n",
       "<p>132 rows × 6 columns</p>\n",
       "</div>"
      ],
      "text/plain": [
       "       image_ids  xmin  ymin  xmax  ymax        class\n",
       "0    img2000.jpg   2.0   1.0  63.0  63.0  orang-outan\n",
       "1    img2004.jpg  14.0   3.0  64.0  64.0         lynx\n",
       "2    img2006.jpg   1.0   4.0  61.0  64.0      guepard\n",
       "3    img2008.jpg   1.0  16.0  64.0  64.0         loup\n",
       "4    img2010.jpg  23.0   1.0  62.0  62.0    chimpanze\n",
       "..           ...   ...   ...   ...   ...          ...\n",
       "127  img2186.jpg   9.0   1.0  56.0  61.0      hamster\n",
       "128  img2187.jpg  15.0  10.0  64.0  64.0  cochon-inde\n",
       "129  img2188.jpg   1.0   7.0  64.0  56.0  cochon-inde\n",
       "130  img2190.jpg   7.0   5.0  64.0  64.0       jaguar\n",
       "131  img2191.jpg   1.0   1.0  49.0  64.0  orang-outan\n",
       "\n",
       "[132 rows x 6 columns]"
      ]
     },
     "execution_count": 57,
     "metadata": {},
     "output_type": "execute_result"
    }
   ],
   "source": [
    "# create the training dataframe\n",
    "X = pd.DataFrame(image_ids,columns=['image_ids'])\n",
    "# X = pd.DataFrame(box,columns=['xmin', 'ymin', 'xmax', 'ymax'])\n",
    "X[['xmin', 'ymin', 'xmax', 'ymax']] = box\n",
    "X['class']=label\n",
    "X"
   ]
  },
  {
   "cell_type": "code",
   "execution_count": 63,
   "id": "56417528",
   "metadata": {
    "scrolled": true
   },
   "outputs": [
    {
     "data": {
      "text/plain": [
       "<AxesSubplot:xlabel='class', ylabel='Count'>"
      ]
     },
     "execution_count": 63,
     "metadata": {},
     "output_type": "execute_result"
    },
    {
     "data": {
      "image/png": "[encoded data removed]",
      "text/plain": [
       "<Figure size 432x288 with 1 Axes>"
      ]
     },
     "metadata": {
      "needs_background": "light"
     },
     "output_type": "display_data"
    }
   ],
   "source": [
    "sns.histplot(X['class'])"
   ]
  }
 ],
 "metadata": {
  "kernelspec": {
   "display_name": "Python 3 (ipykernel)",
   "language": "python",
   "name": "python3"
  },
  "language_info": {
   "codemirror_mode": {
    "name": "ipython",
    "version": 3
   },
   "file_extension": ".py",
   "mimetype": "text/x-python",
   "name": "python",
   "nbconvert_exporter": "python",
   "pygments_lexer": "ipython3",
   "version": "3.9.6"
  }
 },
 "nbformat": 4,
 "nbformat_minor": 5
}
