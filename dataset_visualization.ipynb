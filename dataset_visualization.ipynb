{
 "cells": [
  {
   "cell_type": "code",
   "execution_count": 2,
   "id": "529f9778",
   "metadata": {
    "id": "529f9778"
   },
   "outputs": [],
   "source": [
    "import numpy as np\n",
    "import pandas as pd\n",
    "import xml.etree.ElementTree as ET\n",
    "from pathlib import Path\n",
    "import seaborn as sns\n",
    "from tqdm import tqdm\n",
    "import matplotlib.pyplot as plt\n",
    "import json \n"
   ]
  },
  {
   "cell_type": "code",
   "execution_count": 3,
   "id": "ob9hvZEY5Qvv",
   "metadata": {
    "colab": {
     "base_uri": "https://localhost:8080/"
    },
    "id": "ob9hvZEY5Qvv",
    "outputId": "c2b2d745-26a3-40f9-c879-3de25a4b44e0"
   },
   "outputs": [
    {
     "name": "stdout",
     "output_type": "stream",
     "text": [
      "Cloning into 'animals'...\n",
      "remote: Enumerating objects: 50486, done.\u001b[K\n",
      "remote: Counting objects: 100% (50486/50486), done.\u001b[K\n",
      "remote: Compressing objects: 100% (49447/49447), done.\u001b[K\n",
      "remote: Total 50486 (delta 1054), reused 50466 (delta 1037), pack-reused 0\n",
      "Receiving objects: 100% (50486/50486), 77.15 MiB | 24.14 MiB/s, done.\n",
      "Resolving deltas: 100% (1054/1054), done.\n",
      "Checking out files: 100% (50786/50786), done.\n"
     ]
    }
   ],
   "source": [
    "# path du dossier d'annotation\n",
    "!git clone https://github.com/rsebai/animals.git\n",
    "\n",
    "path = \"animals/labelled/\"\n",
    "\n",
    "annotations_folder_path = Path(path)"
   ]
  },
  {
   "cell_type": "markdown",
   "id": "3dcd7a93",
   "metadata": {
    "id": "3dcd7a93"
   },
   "source": [
    "## Parsing files to arrays "
   ]
  },
  {
   "cell_type": "code",
   "execution_count": 4,
   "id": "22fe449f",
   "metadata": {
    "id": "22fe449f"
   },
   "outputs": [],
   "source": [
    "def read_content(xml_file):\n",
    "    \"\"\"\n",
    "    formats data from xml to arrays.\n",
    "    returns image name, boxes position, classes labels\n",
    "    \"\"\"\n",
    "    tree = ET.parse(xml_file)\n",
    "    root = tree.getroot()\n",
    "    \n",
    "    filename = root.find('filename').text\n",
    "\n",
    "    \n",
    "    if root.find('object') is None:\n",
    "        list_with_all_boxes = [[None,None, None, None]]\n",
    "        list_with_all_labels = [None]\n",
    "    else:\n",
    "        list_with_all_boxes = []\n",
    "        list_with_all_labels = []\n",
    "        for boxes in root.iter('object'):\n",
    "            ymin, xmin, ymax, xmax = None, None, None, None\n",
    "\n",
    "            ymin = int(boxes.find(\"bndbox/ymin\").text)\n",
    "            xmin = int(boxes.find(\"bndbox/xmin\").text)\n",
    "            ymax = int(boxes.find(\"bndbox/ymax\").text)\n",
    "            xmax = int(boxes.find(\"bndbox/xmax\").text)\n",
    "\n",
    "            list_with_single_boxes = [xmin, ymin, xmax, ymax]\n",
    "            list_with_all_boxes.append(list_with_single_boxes)\n",
    "\n",
    "            label = boxes.find(\"name\").text\n",
    "            list_with_all_labels.append(label)\n",
    "\n",
    "    # add image width and height if needed\n",
    "        \n",
    "    return [filename]*len(list_with_all_labels), list_with_all_boxes, list_with_all_labels"
   ]
  },
  {
   "cell_type": "code",
   "execution_count": 5,
   "id": "JYGY3ui4739r",
   "metadata": {
    "id": "JYGY3ui4739r"
   },
   "outputs": [],
   "source": [
    "def read_content_json(json_file):\n",
    "    \"\"\"\n",
    "    formats data from xml to arrays.\n",
    "    returns image name, boxes position, classes labels\n",
    "    \"\"\"\n",
    "    tree = ET.parse(json_file)\n",
    "    root = tree.getroot()\n",
    "    \n",
    "    filename = root.find('filename').text\n",
    "\n",
    "    \n",
    "    if root.find('object') is None:\n",
    "        list_with_all_boxes = [[None,None, None, None]]\n",
    "        list_with_all_labels = [None]\n",
    "    else:\n",
    "        list_with_all_boxes = []\n",
    "        list_with_all_labels = []\n",
    "        for boxes in root.iter('object'):\n",
    "            ymin, xmin, ymax, xmax = None, None, None, None\n",
    "\n",
    "            ymin = int(boxes.find(\"bndbox/ymin\").text)\n",
    "            xmin = int(boxes.find(\"bndbox/xmin\").text)\n",
    "            ymax = int(boxes.find(\"bndbox/ymax\").text)\n",
    "            xmax = int(boxes.find(\"bndbox/xmax\").text)\n",
    "\n",
    "            list_with_single_boxes = [xmin, ymin, xmax, ymax]\n",
    "            list_with_all_boxes.append(list_with_single_boxes)\n",
    "\n",
    "            label = boxes.find(\"name\").text\n",
    "            list_with_all_labels.append(label)\n",
    "\n",
    "    # add image width and height if needed\n",
    "        \n",
    "    return [filename]*len(list_with_all_labels), list_with_all_boxes, list_with_all_labels"
   ]
  },
  {
   "cell_type": "markdown",
   "id": "f7dc7148",
   "metadata": {
    "id": "f7dc7148"
   },
   "source": [
    "## !! path = chemin du dossier des annotations"
   ]
  },
  {
   "cell_type": "code",
   "execution_count": 35,
   "id": "4da90450",
   "metadata": {
    "colab": {
     "base_uri": "https://localhost:8080/"
    },
    "id": "4da90450",
    "outputId": "1a623fea-a759-4bcb-ffb9-e92d66db206e"
   },
   "outputs": [
    {
     "name": "stderr",
     "output_type": "stream",
     "text": [
      "100%|██████████| 483/483 [00:00<00:00, 7861.70it/s]\n"
     ]
    }
   ],
   "source": [
    "# load the training data set (entirely or partly)\n",
    "image_ids = np.array([])\n",
    "box = np.empty((0,4))\n",
    "label = np.array([])\n",
    "\n",
    "for file in tqdm(list(annotations_folder_path.glob('*.xml'))):\n",
    "    annot = read_content(file)\n",
    "    image_ids = np.append(image_ids,annot[0])\n",
    "    box = np.concatenate([box,annot[1]])\n",
    "    label = np.append(label,annot[2])\n",
    "\n",
    "for file_json in list(annotations_folder_path.glob(\"*.json\")):\n",
    "    with open(file_json) as json_data:\n",
    "        data = json.load(json_data)\n",
    "        for i in range(len(data['shapes'])):\n",
    "          image_ids = np.append(image_ids,data['imagePath'])\n",
    "          flat_list = [item for sublist in data['shapes'][i]['points'] for item in sublist]   \n",
    "          box = np.concatenate([box,[flat_list]])\n",
    "          label = np.append(label,data['shapes'][i]['label'])"
   ]
  },
  {
   "cell_type": "code",
   "execution_count": 36,
   "id": "59c330cb",
   "metadata": {
    "colab": {
     "base_uri": "https://localhost:8080/"
    },
    "id": "59c330cb",
    "outputId": "2a05fc1f-aabe-4d18-8cef-bf4334ea8e87"
   },
   "outputs": [
    {
     "data": {
      "text/plain": [
       "(888, 6)"
      ]
     },
     "execution_count": 36,
     "metadata": {},
     "output_type": "execute_result"
    }
   ],
   "source": [
    "# create the training dataframe\n",
    "X = pd.DataFrame(image_ids,columns=['image_ids'])\n",
    "# X = pd.DataFrame(box,columns=['xmin', 'ymin', 'xmax', 'ymax'])\n",
    "X[['xmin', 'ymin', 'xmax', 'ymax']] = box\n",
    "X['class']=label\n",
    "X.shape"
   ]
  },
  {
   "cell_type": "code",
   "execution_count": 37,
   "id": "56417528",
   "metadata": {
    "colab": {
     "base_uri": "https://localhost:8080/",
     "height": 554
    },
    "id": "56417528",
    "outputId": "306bab5f-1c68-4896-a178-372da7cd9902",
    "scrolled": true
   },
   "outputs": [
    {
     "data": {
      "text/plain": [
       "([0, 1, 2, 3, 4, 5, 6, 7, 8, 9], <a list of 10 Text major ticklabel objects>)"
      ]
     },
     "execution_count": 37,
     "metadata": {},
     "output_type": "execute_result"
    },
    {
     "data": {
      "image/png": "[encoded data removed]",
      "text/plain": [
       "<Figure size 1080x576 with 1 Axes>"
      ]
     },
     "metadata": {
      "needs_background": "light"
     },
     "output_type": "display_data"
    }
   ],
   "source": [
    "plt.figure(figsize = (15,8))\n",
    "ax = sns.histplot(X['class'])\n",
    "plt.xticks(rotation=45)"
   ]
  }
 ],
 "metadata": {
  "colab": {
   "collapsed_sections": [],
   "name": "visualisation_annotation_updated.ipynb",
   "provenance": []
  },
  "kernelspec": {
   "display_name": "Python 3 (ipykernel)",
   "language": "python",
   "name": "python3"
  },
  "language_info": {
   "codemirror_mode": {
    "name": "ipython",
    "version": 3
   },
   "file_extension": ".py",
   "mimetype": "text/x-python",
   "name": "python",
   "nbconvert_exporter": "python",
   "pygments_lexer": "ipython3",
   "version": "3.9.6"
  }
 },
 "nbformat": 4,
 "nbformat_minor": 5
}
