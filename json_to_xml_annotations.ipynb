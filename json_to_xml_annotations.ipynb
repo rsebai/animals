{
 "cells": [
  {
   "cell_type": "code",
   "execution_count": 2,
   "id": "79357472",
   "metadata": {},
   "outputs": [],
   "source": [
    "import json as j"
   ]
  },
  {
   "cell_type": "code",
   "execution_count": 12,
   "id": "e4d3bbc7",
   "metadata": {},
   "outputs": [],
   "source": []
  },
  {
   "cell_type": "code",
   "execution_count": 13,
   "id": "d140f432",
   "metadata": {},
   "outputs": [
    {
     "data": {
      "text/plain": [
       "{'version': '4.6.0',\n",
       " 'flags': {},\n",
       " 'shapes': [{'label': 'chat',\n",
       "   'points': [[1.5, 5.899999999999999], [34, 63]],\n",
       "   'group_id': None,\n",
       "   'shape_type': 'rectangle',\n",
       "   'flags': {}},\n",
       "  {'label': 'chat',\n",
       "   'points': [[30.6, 17.6], [63, 62]],\n",
       "   'group_id': None,\n",
       "   'shape_type': 'rectangle',\n",
       "   'flags': {}}],\n",
       " 'imagePath': 'img185.jpg',\n",
       " 'imageData': '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',\n",
       " 'imageHeight': 64,\n",
       " 'imageWidth': 64}"
      ]
     },
     "execution_count": 13,
     "metadata": {},
     "output_type": "execute_result"
    }
   ],
   "source": [
    "d"
   ]
  },
  {
   "cell_type": "code",
   "execution_count": 14,
   "id": "b2e0a2ff",
   "metadata": {},
   "outputs": [],
   "source": [
    "import xml.etree.cElementTree as e"
   ]
  },
  {
   "cell_type": "code",
   "execution_count": 55,
   "id": "63204176",
   "metadata": {},
   "outputs": [],
   "source": [
    "def json_to_voc_xml(filename):\n",
    "    \n",
    "    with open(filename) as json_format_file:\n",
    "        d = j.load(json_format_file)\n",
    "    \n",
    "    r = e.Element(\"annotation\")\n",
    "    e.SubElement(r,\"filename\").text = d[\"imagePath\"]\n",
    "    size = e.SubElement(r,\"size\")\n",
    "    e.SubElement(size,\"width\").text = str(d[\"imageWidth\"])\n",
    "    e.SubElement(size,\"height\").text = str(d[\"imageHeight\"])\n",
    "    e.SubElement(size,\"depth\").text = str(3)\n",
    "\n",
    "    for z in d[\"shapes\"]:\n",
    "        objet = e.SubElement(r,\"object\")\n",
    "        e.SubElement(objet,\"name\").text = z[\"label\"]\n",
    "        box = e.SubElement(objet,\"bndbox\")\n",
    "        e.SubElement(box,\"xmin\").text = str(round(z[\"points\"][0][0]))\n",
    "        e.SubElement(box,\"ymin\").text = str(round(z[\"points\"][0][1]))\n",
    "        e.SubElement(box,\"xmax\").text = str(round(z[\"points\"][1][0]))\n",
    "        e.SubElement(box,\"ymax\").text = str(round(z[\"points\"][1][1]))\n",
    "\n",
    "    a = e.ElementTree(r)\n",
    "    a.write(\"jsontoxml/\"+ d[\"imagePath\"].split(\".\")[0]+\".xml\")"
   ]
  },
  {
   "cell_type": "code",
   "execution_count": 59,
   "id": "3dfd234a",
   "metadata": {},
   "outputs": [
    {
     "name": "stderr",
     "output_type": "stream",
     "text": [
      "100%|███████████████████████████████████████████████████████████████████████████████| 325/325 [00:00<00:00, 569.40it/s]\n"
     ]
    }
   ],
   "source": [
    "from pathlib import Path\n",
    "from tqdm import tqdm\n",
    "\n",
    "path = \"labelled/\"\n",
    "\n",
    "annotations_folder_path = Path(path)\n",
    "\n",
    "for file_json in tqdm(list(annotations_folder_path.glob(\"*.json\"))):\n",
    "    json_to_voc_xml(file_json)"
   ]
  },
  {
   "cell_type": "code",
   "execution_count": 52,
   "id": "6062381d",
   "metadata": {},
   "outputs": [
    {
     "data": {
      "text/plain": [
       "'img101'"
      ]
     },
     "execution_count": 52,
     "metadata": {},
     "output_type": "execute_result"
    }
   ],
   "source": [
    "s = \"img101.jpg\"\n",
    "s.split(\".\")[0]"
   ]
  }
 ],
 "metadata": {
  "kernelspec": {
   "display_name": "Python 3 (ipykernel)",
   "language": "python",
   "name": "python3"
  },
  "language_info": {
   "codemirror_mode": {
    "name": "ipython",
    "version": 3
   },
   "file_extension": ".py",
   "mimetype": "text/x-python",
   "name": "python",
   "nbconvert_exporter": "python",
   "pygments_lexer": "ipython3",
   "version": "3.9.6"
  }
 },
 "nbformat": 4,
 "nbformat_minor": 5
}
